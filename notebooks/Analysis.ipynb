{
 "cells": [
  {
   "cell_type": "markdown",
   "id": "7c599928",
   "metadata": {},
   "source": [
    "# Introduction\n",
    "This work trains a transformer model to understands simple array indexing code from scratch. The code is very simple (spaces are added to the list for better readability, this is not part of the input to the model):\n",
    "```\n",
    "1 0 4\n",
    "[0]=3\n",
    ">3 0 4\n",
    "```\n",
    "This is one of the algorithmic problems from Neel Nanda's proposed 200 open problems of mechanistic interpretability (more about them [here](https://www.alignmentforum.org/s/yivyHaCAmMJ3CqSyj/p/ejtFsvyhRkMofKAFy)).\n",
    "\n",
    "To solve the problem I trained a single layer two head transformer model. The two heads learn two perform two different task. One head just copying the original list while the other only activates before the new element should be subsitiated.\n",
    "\n",
    "The training code for the models can be found in `train.py` in the root of the repo. The first few blocks are just setup and loading of the model, which can be skipped if you are only interested in the analysis of the circuits.\n",
    "\n",
    "As for the vocab of the model it consists of in total 16 different tokens. 0-9 is the number tokens, then there is a set of special character tokens that annotate the indexing [] and start of the output >."
   ]
  },
  {
   "cell_type": "code",
   "execution_count": 1,
   "id": "c753c13b",
   "metadata": {},
   "outputs": [
    {
     "name": "stderr",
     "output_type": "stream",
     "text": [
      "/home/jacob/anaconda3/envs/interp2/lib/python3.10/site-packages/tqdm/auto.py:21: TqdmWarning: IProgress not found. Please update jupyter and ipywidgets. See https://ipywidgets.readthedocs.io/en/stable/user_install.html\n",
      "  from .autonotebook import tqdm as notebook_tqdm\n"
     ]
    }
   ],
   "source": [
    "import torch\n",
    "import random\n",
    "from transformer_lens import HookedTransformer, HookedTransformerConfig \n",
    "import pickle\n",
    "from dataclasses import asdict\n",
    "import circuitsvis as cv\n",
    "import matplotlib.pyplot as plt\n",
    "import numpy as np\n",
    "from fancy_einsum import einsum"
   ]
  },
  {
   "cell_type": "code",
   "execution_count": 2,
   "id": "38662e56",
   "metadata": {},
   "outputs": [],
   "source": [
    "str2int = {\n",
    "    '0': 0,\n",
    "    '1': 1,\n",
    "    '2': 2,\n",
    "    '3': 3,\n",
    "    '4' : 4,\n",
    "    '5' : 5,\n",
    "    '6' : 6,\n",
    "    '7' : 7,\n",
    "    '8' : 8,\n",
    "    '9' : 9,\n",
    "    ' ' : 10,\n",
    "    '\\n' : 11,\n",
    "    '>' : 12,\n",
    "    '=' : 13,\n",
    "    '[' : 14,\n",
    "    ']' : 15\n",
    "}\n",
    "int2str = {v: k for k, v in str2int.items()}\n",
    "int2str[11] = '\\\\n'\n",
    "device = 'cuda' if torch.cuda.is_available() else 'cpu'\n",
    "\n",
    "def gen_list(n, without_rep=True):\n",
    "    if without_rep:\n",
    "        return random.sample(range(10), n)\n",
    "    else:\n",
    "        return [random.randint(0, 9) for _ in range(n)]\n",
    "\n",
    "def gen_ex():\n",
    "    a = gen_list(3)\n",
    "    idx = random.randint(0, 2)\n",
    "\n",
    "    y = random.randint(0, 9)\n",
    "    while y in a:\n",
    "        y = random.randint(0, 9)\n",
    "\n",
    "    template = '''{}\n",
    "[{}]={}\n",
    ">{}'''\n",
    "\n",
    "    b = a.copy()\n",
    "    b[idx] = y\n",
    "\n",
    "    return template.format(\"\".join(map(str, a)), idx, y, \"\".join(map(str, b)))\n",
    "\n",
    "def str_to_tokens(ex):\n",
    "    return [str2int[c] for c in ex]\n",
    "\n",
    "def tokens_to_str(tokens):\n",
    "    return \"\".join([int2str[t] for t in tokens])\n",
    "\n",
    "def load_model(pth):\n",
    "    with open(pth, 'rb') as f:\n",
    "        obj = pickle.load(f)\n",
    "        cfg = HookedTransformerConfig.from_dict(obj['cfg'])\n",
    "        model = HookedTransformer(cfg)\n",
    "        model.load_state_dict(obj['model'])\n",
    "    return model\n",
    "\n",
    "model = load_model('../models/model_1l_14.pkl')"
   ]
  },
  {
   "cell_type": "code",
   "execution_count": 3,
   "id": "fe0cba06",
   "metadata": {},
   "outputs": [
    {
     "data": {
      "text/plain": [
       "'104\\n[0]=3\\n>304'"
      ]
     },
     "execution_count": 3,
     "metadata": {},
     "output_type": "execute_result"
    }
   ],
   "source": [
    "gen_ex()"
   ]
  },
  {
   "cell_type": "code",
   "execution_count": 4,
   "id": "66b41113",
   "metadata": {},
   "outputs": [],
   "source": [
    "def gen_viz():\n",
    "    ex = gen_ex()\n",
    "    tokens = torch.tensor(str_to_tokens(ex), dtype=torch.long).unsqueeze(0)\n",
    "    logits, cache_model = model.run_with_cache(tokens, remove_batch_dim=True) \n",
    "    tokens_input = [int2str[t] for t in tokens.tolist()[0]]\n",
    "\n",
    "    p0 = cache_model[\"pattern\", 0, \"attn\"]\n",
    "    return cv.attention.attention_patterns(tokens=tokens_input, attention=p0)"
   ]
  },
  {
   "cell_type": "markdown",
   "id": "45941726",
   "metadata": {},
   "source": [
    "# Analysis\n",
    "The analysis of the model will focus on the QK and OV circuit introduce in [A Mathematical Framework for Transformer Circuits](https://transformer-circuits.pub/2021/framework/index.html#splitting-attention-head-terms-into-circuits) since that is a good framework understanding these kinds of models."
   ]
  },
  {
   "cell_type": "markdown",
   "id": "9a492275",
   "metadata": {},
   "source": [
    "## QK circuit\n",
    "\n",
    "The Query-Key circuit is the circuit introduced in [Elhage et al](https://transformer-circuits.pub/2021/framework/index.html#splitting-attention-head-terms-into-circuits) paper and is responsible for moving information around among the tokens and writing it to the residual stream.\n",
    "\n",
    "Looking a couple of visualization of the attention patterns of the model, it is very clear what rules the models different heads have learned.\n",
    "\n",
    "### Head 0\n",
    "This head activates the strongest when the index of the replaced value is the next token, where it is fully activated on the replaced value's token. For the other tokens its activation is split between the index token and the value token.\n",
    "\n",
    "### Head 1\n",
    "This is a very \"simple\" head which copies just copies the original token from the list. This is important for the two tokens that are not replaced with a different value, so this head does the brunt of the work in predicting the tokens.\n",
    "\n",
    "An interesting pattern that is true for both the heads are that very little attention is given to the special tokens. Instead all the attention is given to the number tokens."
   ]
  },
  {
   "cell_type": "code",
   "execution_count": 12,
   "id": "a982d5bf",
   "metadata": {},
   "outputs": [
    {
     "data": {
      "text/html": [
       "<div id=\"circuits-vis-5e6e5665-79ca\" style=\"margin: 15px 0;\"/>\n",
       "    <script crossorigin type=\"module\">\n",
       "    import { render, AttentionPatterns } from \"https://unpkg.com/circuitsvis@1.39.1/dist/cdn/esm.js\";\n",
       "    render(\n",
       "      \"circuits-vis-5e6e5665-79ca\",\n",
       "      AttentionPatterns,\n",
       "      {\"tokens\": [\"3\", \"7\", \"4\", \"\\\\n\", \"[\", \"0\", \"]\", \"=\", \"2\", \"\\\\n\", \">\", \"2\", \"7\", \"4\"], \"attention\": [[[1.0, 0.0, 0.0, 0.0, 0.0, 0.0, 0.0, 0.0, 0.0, 0.0, 0.0, 0.0, 0.0, 0.0], [0.12116622179746628, 0.8788337707519531, 0.0, 0.0, 0.0, 0.0, 0.0, 0.0, 0.0, 0.0, 0.0, 0.0, 0.0, 0.0], [0.48525309562683105, 0.3604082465171814, 0.15433868765830994, 0.0, 0.0, 0.0, 0.0, 0.0, 0.0, 0.0, 0.0, 0.0, 0.0, 0.0], [0.048530787229537964, 0.6546369194984436, 0.2959313690662384, 0.0009009480709210038, 0.0, 0.0, 0.0, 0.0, 0.0, 0.0, 0.0, 0.0, 0.0, 0.0], [0.08824906498193741, 0.5562735795974731, 0.3517399728298187, 0.002359815174713731, 0.0013776078121736646, 0.0, 0.0, 0.0, 0.0, 0.0, 0.0, 0.0, 0.0, 0.0], [0.08559764921665192, 0.2564566731452942, 0.2607559859752655, 0.06814166903495789, 0.06624197214841843, 0.26280608773231506, 0.0, 0.0, 0.0, 0.0, 0.0, 0.0, 0.0, 0.0], [0.010371006093919277, 0.09315162897109985, 0.035776883363723755, 0.00029292894760146737, 0.00017688678053673357, 0.860055685043335, 0.00017508844030089676, 0.0, 0.0, 0.0, 0.0, 0.0, 0.0, 0.0], [0.008790628053247929, 0.06766419112682343, 0.02758144773542881, 0.00012328755110502243, 6.518494774354622e-05, 0.8956378102302551, 7.015754817984998e-05, 6.727672007400542e-05, 0.0, 0.0, 0.0, 0.0, 0.0, 0.0], [0.03174876794219017, 0.10806307941675186, 0.13948112726211548, 0.012525011785328388, 0.012549109756946564, 0.4376879334449768, 0.012356214225292206, 0.011706517077982426, 0.23388217389583588, 0.0, 0.0, 0.0, 0.0, 0.0], [0.0014696180587634444, 0.019241269677877426, 0.00971144251525402, 3.925539931515232e-05, 2.4615235815872438e-05, 0.2331344336271286, 2.445411701046396e-05, 2.4021874196478166e-05, 0.7362909317016602, 4.005710070487112e-05, 0.0, 0.0, 0.0, 0.0], [0.0001419261534465477, 8.164665632648394e-05, 1.4534317415382247e-05, 2.2591052584175486e-08, 4.008612553008106e-09, 0.00412096967920661, 6.176792410883536e-09, 6.349060388544103e-09, 0.995640754699707, 1.2644328251099068e-08, 5.433636829366151e-08, 0.0, 0.0, 0.0], [7.587475556647405e-05, 0.013140442781150341, 0.0006577264866791666, 7.689296239732357e-07, 4.474740364912577e-07, 0.14045482873916626, 3.558335492925835e-07, 3.2754391554590256e-07, 0.8456534147262573, 1.08774429463665e-06, 3.8092362046882045e-06, 1.0940691026917193e-05, 0.0, 0.0], [1.4445180568145588e-05, 0.0010464040096849203, 0.015058385208249092, 3.5558412037062226e-07, 3.369390810803452e-07, 0.8915725350379944, 3.107701331828139e-07, 2.949262238871597e-07, 0.09229641407728195, 3.7139656683393696e-07, 4.910180905426387e-06, 6.307650437520351e-07, 4.564408300211653e-06, 0.0], [0.07974100857973099, 0.0868663415312767, 0.04948222264647484, 0.023027952760457993, 0.01894255541265011, 0.19825385510921478, 0.020270781591534615, 0.019423501566052437, 0.34129613637924194, 0.02263091877102852, 0.026110006496310234, 0.03635760769248009, 0.04199032112956047, 0.03560684621334076]], [[1.0, 0.0, 0.0, 0.0, 0.0, 0.0, 0.0, 0.0, 0.0, 0.0, 0.0, 0.0, 0.0, 0.0], [0.06400816887617111, 0.9359918832778931, 0.0, 0.0, 0.0, 0.0, 0.0, 0.0, 0.0, 0.0, 0.0, 0.0, 0.0, 0.0], [0.7037611603736877, 0.23094168305397034, 0.06529711186885834, 0.0, 0.0, 0.0, 0.0, 0.0, 0.0, 0.0, 0.0, 0.0, 0.0, 0.0], [0.03586326539516449, 0.8880105018615723, 0.07522347569465637, 0.0009027841733768582, 0.0, 0.0, 0.0, 0.0, 0.0, 0.0, 0.0, 0.0, 0.0, 0.0], [0.12112035602331161, 0.7343353033065796, 0.13582485914230347, 0.004700081422924995, 0.004019380081444979, 0.0, 0.0, 0.0, 0.0, 0.0, 0.0, 0.0, 0.0, 0.0], [0.026726584881544113, 0.23759335279464722, 0.4466727077960968, 0.04815184697508812, 0.04586203023791313, 0.1949935108423233, 0.0, 0.0, 0.0, 0.0, 0.0, 0.0, 0.0, 0.0], [0.0552423819899559, 0.5671740770339966, 0.045698847621679306, 0.002013114746659994, 0.001739591476507485, 0.3268449604511261, 0.001287032151594758, 0.0, 0.0, 0.0, 0.0, 0.0, 0.0, 0.0], [0.08395947515964508, 0.5238662958145142, 0.033398423343896866, 0.001077792840078473, 0.0009050617809407413, 0.3552922308444977, 0.0006445749313570559, 0.0008561168215237558, 0.0, 0.0, 0.0, 0.0, 0.0, 0.0], [0.03628985956311226, 0.16170886158943176, 0.2725023031234741, 0.03699028491973877, 0.03549971804022789, 0.1981523334980011, 0.03625534474849701, 0.03313775360584259, 0.1894635260105133, 0.0, 0.0, 0.0, 0.0, 0.0], [0.019450049847364426, 0.42623674869537354, 0.04269774258136749, 0.0007388938684016466, 0.0006291964673437178, 0.2525296211242676, 0.0004739693249575794, 0.0005518706748262048, 0.2555783987045288, 0.001113463775254786, 0.0, 0.0, 0.0, 0.0], [0.9686148166656494, 0.0052711255848407745, 7.470101991202682e-06, 1.1760674169636331e-05, 9.53279868554091e-06, 0.0039507197216153145, 4.576552328217076e-06, 1.289139618165791e-05, 0.022082306444644928, 9.463323294767179e-06, 2.5393272153451107e-05, 0.0, 0.0, 0.0], [0.0013011060655117035, 0.9281912446022034, 0.0006184852099977434, 6.889140877319733e-06, 5.474006229633233e-06, 0.05894284322857857, 3.3579860883037327e-06, 4.079517566424329e-06, 0.010852771811187267, 1.739131403155625e-05, 2.8588348868652247e-05, 2.776366272883024e-05, 0.0, 0.0], [7.979094220900151e-07, 0.0006614804733544588, 0.8771416544914246, 6.682833827653667e-06, 5.287827661959454e-06, 0.019960565492510796, 5.324022822605912e-06, 3.7868032904952997e-06, 0.10164773464202881, 1.0538810784055386e-05, 6.76139970892109e-05, 0.00048036305815912783, 8.189776053768583e-06, 0.0], [0.12728069722652435, 0.1197928711771965, 0.05918801203370094, 0.030103273689746857, 0.02875557355582714, 0.1454031616449356, 0.02646014094352722, 0.029101083055138588, 0.2008238434791565, 0.031187530606985092, 0.03935741260647774, 0.05195837840437889, 0.06020691245794296, 0.0503811314702034]]]}\n",
       "    )\n",
       "    </script>"
      ],
      "text/plain": [
       "<circuitsvis.utils.render.RenderedHTML at 0x7f75f148ffd0>"
      ]
     },
     "execution_count": 12,
     "metadata": {},
     "output_type": "execute_result"
    }
   ],
   "source": [
    "gen_viz()"
   ]
  },
  {
   "cell_type": "code",
   "execution_count": 13,
   "id": "c412297e",
   "metadata": {},
   "outputs": [
    {
     "data": {
      "text/html": [
       "<div id=\"circuits-vis-20d18def-15f0\" style=\"margin: 15px 0;\"/>\n",
       "    <script crossorigin type=\"module\">\n",
       "    import { render, AttentionPatterns } from \"https://unpkg.com/circuitsvis@1.39.1/dist/cdn/esm.js\";\n",
       "    render(\n",
       "      \"circuits-vis-20d18def-15f0\",\n",
       "      AttentionPatterns,\n",
       "      {\"tokens\": [\"6\", \"5\", \"4\", \"\\\\n\", \"[\", \"0\", \"]\", \"=\", \"3\", \"\\\\n\", \">\", \"3\", \"5\", \"4\"], \"attention\": [[[1.0, 0.0, 0.0, 0.0, 0.0, 0.0, 0.0, 0.0, 0.0, 0.0, 0.0, 0.0, 0.0, 0.0], [0.2611212432384491, 0.7388787269592285, 0.0, 0.0, 0.0, 0.0, 0.0, 0.0, 0.0, 0.0, 0.0, 0.0, 0.0, 0.0], [0.4729492962360382, 0.40203747153282166, 0.12501324713230133, 0.0, 0.0, 0.0, 0.0, 0.0, 0.0, 0.0, 0.0, 0.0, 0.0, 0.0], [0.055380284786224365, 0.6741805076599121, 0.2696184813976288, 0.0008208398940041661, 0.0, 0.0, 0.0, 0.0, 0.0, 0.0, 0.0, 0.0, 0.0, 0.0], [0.10130434483289719, 0.5757219195365906, 0.31957802176475525, 0.0021440403070300817, 0.0012516432907432318, 0.0, 0.0, 0.0, 0.0, 0.0, 0.0, 0.0, 0.0, 0.0], [0.08943786472082138, 0.23906181752681732, 0.26612791419029236, 0.06954548507928848, 0.06760665774345398, 0.26822027564048767, 0.0, 0.0, 0.0, 0.0, 0.0, 0.0, 0.0, 0.0], [0.013634128496050835, 0.10126671195030212, 0.03532279655337334, 0.000289211020572111, 0.00017464168195147067, 0.8491396307945251, 0.00017286617367062718, 0.0, 0.0, 0.0, 0.0, 0.0, 0.0, 0.0], [0.01186937652528286, 0.06948729604482651, 0.027435055002570152, 0.00012263318058103323, 6.483896868303418e-05, 0.8908840417861938, 6.97851792210713e-05, 6.691963790217414e-05, 0.0, 0.0, 0.0, 0.0, 0.0, 0.0], [0.034727465361356735, 0.10888251662254333, 0.10149314254522324, 0.011778402142226696, 0.010437768884003162, 0.41102057695388794, 0.009660969488322735, 0.010351588949561119, 0.30164748430252075, 0.0, 0.0, 0.0, 0.0, 0.0], [0.0030045444145798683, 0.034680623561143875, 0.01571854017674923, 6.353718345053494e-05, 3.984120849054307e-05, 0.37734177708625793, 3.958043089369312e-05, 3.8880818465258926e-05, 0.5690078139305115, 6.483477773144841e-05, 0.0, 0.0, 0.0, 0.0], [0.002481999807059765, 0.0012870195787400007, 0.00019404866907279938, 3.0161473318912613e-07, 5.3519212173114283e-08, 0.055019352585077286, 8.246670546441237e-08, 8.476683177605082e-08, 0.9410161972045898, 1.6881547537650476e-07, 7.254492402353208e-07, 0.0, 0.0, 0.0], [0.0006648337002843618, 0.05218098312616348, 0.0016880747862160206, 2.5504677978460677e-06, 1.3127670399626368e-06, 0.46522244811058044, 9.813117003432126e-07, 1.021582875182503e-06, 0.48021891713142395, 3.470422825557762e-06, 1.0605284842313267e-05, 4.751184405904496e-06, 0.0, 0.0], [2.4390339603996836e-05, 0.0007027878891676664, 0.026098433881998062, 8.541512102056004e-07, 8.690338972883183e-07, 0.6684921383857727, 7.796264753778814e-07, 7.441801699314965e-07, 0.30465802550315857, 8.216015316975245e-07, 1.0123007086804137e-05, 4.751087544718757e-06, 5.326063273969339e-06, 0.0], [0.0954805389046669, 0.11189457774162292, 0.053654421120882034, 0.024969598278403282, 0.02053973451256752, 0.21497005224227905, 0.021979954093694687, 0.021061234176158905, 0.2619919180870056, 0.02453908883035183, 0.02831152454018593, 0.02790948376059532, 0.05408871918916702, 0.03860911354422569]], [[1.0, 0.0, 0.0, 0.0, 0.0, 0.0, 0.0, 0.0, 0.0, 0.0, 0.0, 0.0, 0.0, 0.0], [0.09627125412225723, 0.903728723526001, 0.0, 0.0, 0.0, 0.0, 0.0, 0.0, 0.0, 0.0, 0.0, 0.0, 0.0, 0.0], [0.6796501278877258, 0.2495286613702774, 0.07082121074199677, 0.0, 0.0, 0.0, 0.0, 0.0, 0.0, 0.0, 0.0, 0.0, 0.0, 0.0], [0.02102646790444851, 0.8837050199508667, 0.09413862228393555, 0.001129791489802301, 0.0, 0.0, 0.0, 0.0, 0.0, 0.0, 0.0, 0.0, 0.0, 0.0], [0.08218757808208466, 0.7440006732940674, 0.16332674026489258, 0.005651756655424833, 0.004833226557821035, 0.0, 0.0, 0.0, 0.0, 0.0, 0.0, 0.0, 0.0, 0.0], [0.02131037414073944, 0.22937504947185516, 0.4549509584903717, 0.049044251441955566, 0.0467119999229908, 0.19860737025737762, 0.0, 0.0, 0.0, 0.0, 0.0, 0.0, 0.0, 0.0], [0.03515522927045822, 0.5339661240577698, 0.05214913189411163, 0.002297261729836464, 0.001985131064429879, 0.37297841906547546, 0.0014686939539387822, 0.0, 0.0, 0.0, 0.0, 0.0, 0.0, 0.0], [0.049308862537145615, 0.4917513430118561, 0.039084337651729584, 0.0012612811988219619, 0.0010591436875984073, 0.41577890515327454, 0.0007543106912635267, 0.0010018660686910152, 0.0, 0.0, 0.0, 0.0, 0.0, 0.0], [0.03551122546195984, 0.1497415453195572, 0.2487594038248062, 0.06470125913619995, 0.062105145305395126, 0.1964823603630066, 0.061866395175457, 0.057007797062397, 0.1238248273730278, 0.0, 0.0, 0.0, 0.0, 0.0], [0.011492140591144562, 0.4049535393714905, 0.04921124503016472, 0.0008516114321537316, 0.0007251801434904337, 0.29105281829833984, 0.0005462729022838175, 0.0006360581028275192, 0.23924778401851654, 0.001283322344534099, 0.0, 0.0, 0.0, 0.0], [0.8924029469490051, 0.008216497488319874, 1.848382999014575e-05, 2.9100341635057703e-05, 2.3587715986650437e-05, 0.009775559417903423, 1.1324105798848905e-05, 3.189816925441846e-05, 0.08940431475639343, 2.341580875508953e-05, 6.28324705758132e-05, 0.0, 0.0, 0.0], [0.0008370031719096005, 0.9004324674606323, 0.0006966275395825505, 1.4867970094201155e-05, 1.1815980542451143e-05, 0.07211364060640335, 7.0700580181437545e-06, 8.659286322654225e-06, 0.025682630017399788, 3.7355122913140804e-05, 5.002697798772715e-05, 0.00010785318590933457, 0.0, 0.0], [8.443765295851335e-07, 0.0006735005299560726, 0.962197482585907, 7.29607427274459e-06, 6.011858204146847e-06, 0.028306836262345314, 5.499408871401101e-06, 4.357324996817624e-06, 0.00867192167788744, 1.1200887456652708e-05, 8.02007780293934e-05, 2.600132575025782e-05, 8.776598406257108e-06, 0.0], [0.11330211162567139, 0.12513256072998047, 0.064540334045887, 0.03282548859715462, 0.03135591745376587, 0.15855185687541962, 0.028852904215455055, 0.031732670962810516, 0.17394907772541046, 0.03400779515504837, 0.04291646555066109, 0.04500516876578331, 0.06289059668779373, 0.054937057197093964]]]}\n",
       "    )\n",
       "    </script>"
      ],
      "text/plain": [
       "<circuitsvis.utils.render.RenderedHTML at 0x7f75f81aed70>"
      ]
     },
     "execution_count": 13,
     "metadata": {},
     "output_type": "execute_result"
    }
   ],
   "source": [
    "gen_viz()"
   ]
  },
  {
   "cell_type": "markdown",
   "id": "7eb8044c",
   "metadata": {},
   "source": [
    "## OV circuit\n",
    "The Output-Value circuit describes how a give token will affect the output logits if it is attended too.\n",
    "\n",
    "Visualizing this gives the clearest picture of the behaviour models."
   ]
  },
  {
   "cell_type": "code",
   "execution_count": 7,
   "id": "dc9618cd",
   "metadata": {},
   "outputs": [],
   "source": [
    "def visualize_ov(tokens):\n",
    "    token_embeddings  = model.embed(tokens)\n",
    "    attn = model.blocks[0].attn\n",
    "    \n",
    "    value_out = einsum(\"n_ctx d_model, n_heads d_model d_head -> n_heads n_ctx d_head\", \n",
    "                       token_embeddings, attn.W_V)\n",
    "\n",
    "    output  = einsum(\"n_heads n_ctx d_head, n_heads d_head d_model -> n_heads n_ctx d_model\",\n",
    "                    value_out, attn.W_O)\n",
    "    \n",
    "    ov_heatmap = model.unembed(output).detach().cpu()\n",
    "    \n",
    "    \n",
    "    fig, axs = plt.subplots(1, 2, figsize=(12, 8))\n",
    "    \n",
    "    for i, head in enumerate(ov_heatmap):\n",
    "        ax = axs[i]\n",
    "        graph = ax.imshow(ov_heatmap[i], cmap=\"hot\", interpolation=\"nearest\")   \n",
    "        ax.set_title(f'Head {i}')\n",
    "    fig.colorbar(graph, ax=axs, shrink=0.6, location='right')"
   ]
  },
  {
   "cell_type": "markdown",
   "id": "deae548b",
   "metadata": {},
   "source": [
    "## Visualization\n",
    "We can see that the behaviour of the heads are very similiar. Looking at the heatmap for a real input the behaviour is fairly clear, with largest values being placed on the same token that it is \"looking\" at (i.e exerting copying behaviour).\n",
    "\n",
    "This copying behaviour is even more aparant when the full vocabulary is visualized. There we can see a clear diagonal line for all the number tokens. Interesting is that this is not true for the special character tokens, where all the values a lot smaller, meaning that the OV circuit has also learned to ignore these tokens assigning them very little weight."
   ]
  },
  {
   "cell_type": "code",
   "execution_count": 8,
   "id": "89364a64",
   "metadata": {},
   "outputs": [
    {
     "name": "stdout",
     "output_type": "stream",
     "text": [
      "803\n",
      "[2]=6\n",
      ">806\n"
     ]
    },
    {
     "data": {
      "image/png": "[encoded data removed]",
      "text/plain": [
       "<Figure size 1200x800 with 3 Axes>"
      ]
     },
     "metadata": {},
     "output_type": "display_data"
    }
   ],
   "source": [
    "ex = gen_ex()\n",
    "ex_toks = str_to_tokens(ex)\n",
    "print(ex)\n",
    "visualize_ov(ex_toks)"
   ]
  },
  {
   "cell_type": "code",
   "execution_count": 9,
   "id": "2f66987c",
   "metadata": {
    "scrolled": false
   },
   "outputs": [
    {
     "data": {
      "image/png": "[encoded data removed]",
      "text/plain": [
       "<Figure size 1200x800 with 3 Axes>"
      ]
     },
     "metadata": {},
     "output_type": "display_data"
    }
   ],
   "source": [
    "visualize_ov(range(16))"
   ]
  },
  {
   "cell_type": "markdown",
   "id": "dc9a2276",
   "metadata": {},
   "source": [
    "## Computing the copying behaviour\n",
    "\n",
    "[Elhage et al](https://transformer-circuits.pub/2021/framework/index.html#splitting-attention-head-terms-into-circuits) proposes that copying behaviour in the OV circuit might be detectable by looking at the eigen values of the matrix. Where positive values mean that the model is performing copying.\n",
    "\n",
    "Computing that metric we get values for each head that is inline with what they claim means copying behaviour, confirming our experiments"
   ]
  },
  {
   "cell_type": "code",
   "execution_count": 16,
   "id": "ffc669a9",
   "metadata": {},
   "outputs": [],
   "source": [
    "def copying_score():\n",
    "    ov_circuit = model.embed.W_E @ model.OV @ model.unembed.W_U\n",
    "    eigenvalues  = ov_circuit.eigenvalues\n",
    "    copy_score = eigenvalues.sum(dim=-1).real / eigenvalues.abs().sum(dim=-1)\n",
    "    return copy_score.detach().cpu()[0]"
   ]
  },
  {
   "cell_type": "code",
   "execution_count": 17,
   "id": "76d9bf5b",
   "metadata": {},
   "outputs": [
    {
     "data": {
      "text/plain": [
       "tensor([0.9447, 0.9405])"
      ]
     },
     "execution_count": 17,
     "metadata": {},
     "output_type": "execute_result"
    }
   ],
   "source": [
    "copying_score()"
   ]
  },
  {
   "cell_type": "markdown",
   "id": "b8cb2e22",
   "metadata": {},
   "source": [
    "# Conclusion\n",
    "Looking at the heads of the different circuits you can get a clear picture of how the model solves the task. It is clear that most of the \"work\" is performed inside of the QK circuit where information is moved around and the OV circuit is not performing any complex activation patterns, instead just strengthing the activation of the current number token and suppressing the special tokens."
   ]
  },
  {
   "cell_type": "markdown",
   "id": "f137d471",
   "metadata": {},
   "source": [
    "## Further work\n",
    "One interesting expansion of this problem is to increase the list length and allow for multiple indexing replacements. The interesting question here is whether a two head single layer model can still perform this task or if one head per index is required (plus one copying head)?"
   ]
  }
 ],
 "metadata": {
  "kernelspec": {
   "display_name": "Python 3 (ipykernel)",
   "language": "python",
   "name": "python3"
  },
  "language_info": {
   "codemirror_mode": {
    "name": "ipython",
    "version": 3
   },
   "file_extension": ".py",
   "mimetype": "text/x-python",
   "name": "python",
   "nbconvert_exporter": "python",
   "pygments_lexer": "ipython3",
   "version": "3.10.11"
  }
 },
 "nbformat": 4,
 "nbformat_minor": 5
}
